{
 "cells": [
  {
   "cell_type": "code",
   "execution_count": 1,
   "id": "acbd5f3b",
   "metadata": {},
   "outputs": [],
   "source": [
    "from dotenv import load_dotenv\n",
    "\n",
    "from pydantic import BaseModel,Field\n",
    "\n",
    "load_dotenv()\n",
    "\n",
    "from datetime import date\n",
    "from typing import  Optional\n",
    "from enum import Enum\n",
    "from langchain_core.messages import SystemMessage,HumanMessage\n",
    "from models import RelevantFacts\n",
    "from langchain_openai import ChatOpenAI\n"
   ]
  },
  {
   "cell_type": "code",
   "execution_count": 2,
   "id": "6acf3653",
   "metadata": {},
   "outputs": [],
   "source": [
    " \n",
    "\n",
    "llm_with_structured_output = ChatOpenAI(model=\"gpt-4.1-mini\", temperature=0).with_structured_output(RelevantFacts)\n"
   ]
  },
  {
   "cell_type": "code",
   "execution_count": 3,
   "id": "1418c42c",
   "metadata": {},
   "outputs": [
    {
     "name": "stderr",
     "output_type": "stream",
     "text": [
      "/Users/victornascimento/Desktop/medium/BlogPosts/llm-structured-resilice/.venv/lib/python3.12/site-packages/tqdm/auto.py:21: TqdmWarning: IProgress not found. Please update jupyter and ipywidgets. See https://ipywidgets.readthedocs.io/en/stable/user_install.html\n",
      "  from .autonotebook import tqdm as notebook_tqdm\n"
     ]
    }
   ],
   "source": [
    "from docling.document_converter import DocumentConverter\n",
    "\n",
    "source = \"./relevant_fact.pdf\"  # PDF path or URL\n",
    "converter = DocumentConverter()\n",
    "result = converter.convert(source)\n",
    "document_markdown = result.document.export_to_markdown()"
   ]
  },
  {
   "cell_type": "code",
   "execution_count": 4,
   "id": "15c74bf0",
   "metadata": {},
   "outputs": [
    {
     "data": {
      "text/plain": [
       "{'Company': 'Petróleo Brasileiro S.A. - Petrobras',\n",
       " 'Date': datetime.date(2025, 8, 7),\n",
       " 'Type': <EventType.DIVIDEND_PAYMENT: 'Dividend Payment'>,\n",
       " 'Local': {'Country': 'Brazil',\n",
       "  'State': 'RJ',\n",
       "  'City': 'Rio de Janeiro',\n",
       "  'Street': 'Av. Henrique Valadares',\n",
       "  'Number': '28 - 9º andar',\n",
       "  'ZipCode': '20031-030'},\n",
       " 'DividendInfo': {'Type': <StockType.ORDINARIA: 'ORDINARIA'>,\n",
       "  'Divident': 0.67192409,\n",
       "  'Date': datetime.date(2025, 8, 21),\n",
       "  'PaymentDate': datetime.date(2025, 11, 21)}}"
      ]
     },
     "execution_count": 4,
     "metadata": {},
     "output_type": "execute_result"
    }
   ],
   "source": [
    "from prompts import SYSTEM_MESSAGE_TEXT\n",
    "SYSTEM_MESSAGE = SystemMessage(content=SYSTEM_MESSAGE_TEXT)   \n",
    "\n",
    "HUMAN_MESSAGE_TEXT = \"Here is the relevant fact: \"+document_markdown\n",
    "HUMAN_MESSAGE = HumanMessage(content=HUMAN_MESSAGE_TEXT)\n",
    "\n",
    "MESSAGES = [SYSTEM_MESSAGE, HUMAN_MESSAGE]\n",
    "response  = llm_with_structured_output.invoke(MESSAGES  )\n",
    "response.model_dump()"
   ]
  },
  {
   "cell_type": "code",
   "execution_count": 5,
   "id": "1ab7f343",
   "metadata": {},
   "outputs": [
    {
     "data": {
      "text/plain": [
       "{'Company': 'Petróleo Brasileiro S.A. - Petrobras',\n",
       " 'Date': datetime.date(2025, 8, 7),\n",
       " 'Type': <EventType.DIVIDEND_PAYMENT: 'Dividend Payment'>,\n",
       " 'Local': {'Country': 'Brazil',\n",
       "  'State': 'RJ',\n",
       "  'City': 'Rio de Janeiro',\n",
       "  'Street': 'Av. Henrique Valadares',\n",
       "  'Number': '28 - 9º andar',\n",
       "  'ZipCode': '20031-030'},\n",
       " 'DividendInfo': {'Type': <StockType.ORDINARIA: 'ORDINARIA'>,\n",
       "  'Divident': 0.67192409,\n",
       "  'Date': datetime.date(2025, 8, 21),\n",
       "  'PaymentDate': datetime.date(2025, 11, 21)}}"
      ]
     },
     "execution_count": 5,
     "metadata": {},
     "output_type": "execute_result"
    }
   ],
   "source": [
    "import instructor\n",
    "client = instructor.from_provider(\"openai/gpt-4.1-mini\")\n",
    "user = client.chat.completions.create(\n",
    "    response_model=RelevantFacts,\n",
    "    messages=[{\"role\": \"system\",\"content\":SYSTEM_MESSAGE_TEXT},{\"role\": \"user\",\"content\":HUMAN_MESSAGE_TEXT}],\n",
    "    max_retries=3\n",
    ")\n",
    "user.model_dump()"
   ]
  },
  {
   "cell_type": "code",
   "execution_count": null,
   "id": "46482fe2",
   "metadata": {},
   "outputs": [
    {
     "data": {
      "text/plain": [
       "{'messages': [AIMessage(content='', additional_kwargs={'tool_calls': [{'id': 'call_CQVpJ2WAnzIfRluOIZIPPvTC', 'name': 'RelevantFacts', 'args': {'Company': 'Petróleo Brasileiro S.A. - Petrobras', 'Date': '2025-08-07', 'Type': 'Dividend Payment', 'Local': {'Country': 'Brazil', 'State': 'RJ', 'City': 'Rio de Janeiro', 'Street': 'Av. Henrique Valadares', 'Number': '28 - 9º andar', 'ZipCode': '20031-030'}, 'DividendInfo': {'Type': 'ORDINARIA', 'Divident': 0.67192409, 'Date': '2025-11-21', 'PaymentDate': '2025-11-21'}}}], 'refusal': None}, response_metadata={'token_usage': {'completion_tokens': 143, 'prompt_tokens': 1690, 'total_tokens': 1833, 'completion_tokens_details': {'accepted_prediction_tokens': 0, 'audio_tokens': 0, 'reasoning_tokens': 0, 'rejected_prediction_tokens': 0}, 'prompt_tokens_details': {'audio_tokens': 0, 'cached_tokens': 0}}, 'model_name': 'gpt-4.1-mini-2025-04-14', 'system_fingerprint': 'fp_37c45ea698', 'id': 'chatcmpl-C6cNBPIEhRBPEw5VEy2lMqMAuGESm', 'service_tier': 'default', 'finish_reason': 'stop', 'logprobs': None}, id='run--58cda95d-204b-4696-ae72-21298b4979a1-0', tool_calls=[{'id': 'call_CQVpJ2WAnzIfRluOIZIPPvTC', 'name': 'RelevantFacts', 'args': {'Company': 'Petróleo Brasileiro S.A. - Petrobras', 'Date': '2025-08-07', 'Type': 'Dividend Payment', 'Local': {'Country': 'Brazil', 'State': 'RJ', 'City': 'Rio de Janeiro', 'Street': 'Av. Henrique Valadares', 'Number': '28 - 9º andar', 'ZipCode': '20031-030'}, 'DividendInfo': {'Type': 'ORDINARIA', 'Divident': 0.67192409, 'Date': '2025-11-21', 'PaymentDate': '2025-11-21'}}}], usage_metadata={'input_tokens': 1690, 'output_tokens': 143, 'total_tokens': 1833, 'input_token_details': {'audio': 0, 'cache_read': 0}, 'output_token_details': {'audio': 0, 'reasoning': 0}})],\n",
       " 'responses': [RelevantFacts(Company='Petróleo Brasileiro S.A. - Petrobras', Date=datetime.date(2025, 8, 7), Type=<EventType.DIVIDEND_PAYMENT: 'Dividend Payment'>, Local=Address(Country='Brazil', State='RJ', City='Rio de Janeiro', Street='Av. Henrique Valadares', Number='28 - 9º andar', ZipCode='20031-030'), DividendInfo=DividentInfo(Type=<StockType.ORDINARIA: 'ORDINARIA'>, Divident=0.67192409, Date=datetime.date(2025, 11, 21), PaymentDate=datetime.date(2025, 11, 21)))],\n",
       " 'response_metadata': [{'id': 'call_CQVpJ2WAnzIfRluOIZIPPvTC'}],\n",
       " 'attempts': 2}"
      ]
     },
     "execution_count": 6,
     "metadata": {},
     "output_type": "execute_result"
    }
   ],
   "source": [
    "from langchain_openai import ChatOpenAI\n",
    "\n",
    "from trustcall import create_extractor\n",
    "llm = ChatOpenAI(model=\"gpt-4.1-mini\",temperature=0)\n",
    "\n",
    "bound = create_extractor(\n",
    "    llm,\n",
    "    tools=[RelevantFacts],\n",
    "    tool_choice=\"RelevantFacts\",\n",
    ")\n",
    "\n",
    "\n",
    "response = bound.invoke(MESSAGES)\n",
    "response"
   ]
  },
  {
   "cell_type": "code",
   "execution_count": 7,
   "id": "10767203",
   "metadata": {},
   "outputs": [
    {
     "data": {
      "text/plain": [
       "{'Company': 'Petróleo Brasileiro S.A. - Petrobras',\n",
       " 'Date': datetime.date(2025, 8, 7),\n",
       " 'Type': <EventType.DIVIDEND_PAYMENT: 'Dividend Payment'>,\n",
       " 'Local': {'Country': 'Brazil',\n",
       "  'State': 'RJ',\n",
       "  'City': 'Rio de Janeiro',\n",
       "  'Street': 'Av. Henrique Valadares',\n",
       "  'Number': '28 - 9º andar',\n",
       "  'ZipCode': '20031-030'},\n",
       " 'DividendInfo': {'Type': <StockType.ORDINARIA: 'ORDINARIA'>,\n",
       "  'Divident': 0.67192409,\n",
       "  'Date': datetime.date(2025, 11, 21),\n",
       "  'PaymentDate': datetime.date(2025, 11, 21)}}"
      ]
     },
     "execution_count": 7,
     "metadata": {},
     "output_type": "execute_result"
    }
   ],
   "source": [
    "response['responses'][-1].model_dump()\n"
   ]
  }
 ],
 "metadata": {
  "kernelspec": {
   "display_name": ".venv",
   "language": "python",
   "name": "python3"
  },
  "language_info": {
   "codemirror_mode": {
    "name": "ipython",
    "version": 3
   },
   "file_extension": ".py",
   "mimetype": "text/x-python",
   "name": "python",
   "nbconvert_exporter": "python",
   "pygments_lexer": "ipython3",
   "version": "3.12.11"
  }
 },
 "nbformat": 4,
 "nbformat_minor": 5
}
